{
 "cells": [
  {
   "cell_type": "code",
   "execution_count": 1,
   "id": "a99c3e36-6770-4684-9c6a-4f082b57e90d",
   "metadata": {},
   "outputs": [],
   "source": [
    "import pandas as pd\n",
    "from tqdm import tqdm\n",
    "import polars as pl\n",
    "from tqdm import tqdm\n",
    "import joblib\n",
    "import glob\n",
    "import numpy as np\n",
    "import warnings\n",
    "warnings.filterwarnings('ignore')"
   ]
  },
  {
   "cell_type": "code",
   "execution_count": 2,
   "id": "96744918",
   "metadata": {},
   "outputs": [],
   "source": [
    "def parsing_data(df: pd.DataFrame,target) -> pd.DataFrame:\n",
    "    data = []\n",
    "    for i in range(len(df)):\n",
    "        for col in df.columns[1:]:\n",
    "            data.append([df['Unnamed: 0'].iloc[i],float(col),df[col].iloc[i]])\n",
    "    return pd.DataFrame(data,columns=['lat','long',f'{target}'])"
   ]
  },
  {
   "cell_type": "code",
   "execution_count": 3,
   "id": "95a1e540",
   "metadata": {},
   "outputs": [],
   "source": [
    "def concat_data_read(path) -> pd.DataFrame:\n",
    "\n",
    "    \"\"\"\n",
    "    We read all the files from the directory and concatenate them into one dataset\n",
    "\n",
    "    \"\"\"\n",
    "    \n",
    "    PATH = f'{path}/' #the path to the directory\n",
    "    files = glob.glob(PATH + r'/**/*.csv', recursive=True)\n",
    "    final_df = pd.DataFrame()\n",
    "    for file in tqdm(files):\n",
    "        if path != 'precipitation':\n",
    "            date = file.split('.')[0].split('_')[3]\n",
    "        else:\n",
    "            date = file.split('.')[0].split('_')[1]\n",
    "        df_file = pd.read_csv(file)\n",
    "        data = parsing_data(df_file,path)\n",
    "        data['date'] = date\n",
    "        final_df = final_df._append(data)\n",
    "    return final_df"
   ]
  },
  {
   "cell_type": "code",
   "execution_count": 4,
   "id": "bb7f9904-87ee-4208-86ed-c12f809ef012",
   "metadata": {},
   "outputs": [],
   "source": [
    "#For each parameter values, specify the path to your directory and collect the datasets"
   ]
  },
  {
   "cell_type": "code",
   "execution_count": 5,
   "id": "8a634ba3",
   "metadata": {},
   "outputs": [
    {
     "name": "stderr",
     "output_type": "stream",
     "text": [
      "100%|█████████████████████████████████████████| 257/257 [32:33<00:00,  7.60s/it]\n"
     ]
    }
   ],
   "source": [
    "vegetation = concat_data_read('vegetation_index')"
   ]
  },
  {
   "cell_type": "code",
   "execution_count": 6,
   "id": "58d94438-3ef0-4b02-9171-ca9065179fc6",
   "metadata": {},
   "outputs": [],
   "source": [
    "#Let's save the dataset for training\n",
    "vegetation.to_parquet(\"train_df.parquet\", index=False, engine=\"pyarrow\", compression=\"snappy\")"
   ]
  },
  {
   "cell_type": "code",
   "execution_count": 7,
   "id": "fdf90b69",
   "metadata": {},
   "outputs": [],
   "source": [
    "#aero = concat_data_read('aerosol_depth')"
   ]
  },
  {
   "cell_type": "code",
   "execution_count": 8,
   "id": "458f531d",
   "metadata": {},
   "outputs": [],
   "source": [
    "#ground_moisture = concat_data_read('ground_moisture')"
   ]
  },
  {
   "cell_type": "code",
   "execution_count": 9,
   "id": "ec16d3d3",
   "metadata": {},
   "outputs": [],
   "source": [
    "#land_temperature = concat_data_read('land_temperature')"
   ]
  },
  {
   "cell_type": "code",
   "execution_count": 10,
   "id": "73bec812",
   "metadata": {},
   "outputs": [],
   "source": [
    "#precipitation = concat_data_read('precipitation')"
   ]
  },
  {
   "cell_type": "code",
   "execution_count": 11,
   "id": "7728d720",
   "metadata": {},
   "outputs": [],
   "source": [
    "#shortwave_radiation = concat_data_read('shortwave_radiation')"
   ]
  },
  {
   "cell_type": "code",
   "execution_count": 12,
   "id": "2fa42c1f",
   "metadata": {},
   "outputs": [],
   "source": [
    "#train = vegetation.merge(aero,how='left',on=['lat', 'long','date'])\\\n",
    "                 # .merge(ground_moisture,how='left',on=['lat', 'long','date'])\\\n",
    "                 # .merge(land_temperature,how='left',on=['lat', 'long','date'])\\\n",
    "                  #.merge(precipitation,how='left',on=['lat', 'long','date'])\\\n",
    "                 # .merge(shortwave_radiation,how='left',on=['lat', 'long','date'])"
   ]
  },
  {
   "cell_type": "code",
   "execution_count": 13,
   "id": "429956fe-6714-43d0-af14-e8892289d777",
   "metadata": {},
   "outputs": [],
   "source": [
    "#train.to_parquet(\"train_df.parquet\", index=False, engine=\"pyarrow\", compression=\"snappy\")"
   ]
  }
 ],
 "metadata": {
  "kernelspec": {
   "display_name": "Python 3 (ipykernel)",
   "language": "python",
   "name": "python3"
  },
  "language_info": {
   "codemirror_mode": {
    "name": "ipython",
    "version": 3
   },
   "file_extension": ".py",
   "mimetype": "text/x-python",
   "name": "python",
   "nbconvert_exporter": "python",
   "pygments_lexer": "ipython3",
   "version": "3.10.12"
  }
 },
 "nbformat": 4,
 "nbformat_minor": 5
}
